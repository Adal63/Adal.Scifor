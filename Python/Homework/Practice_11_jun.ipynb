{
  "nbformat": 4,
  "nbformat_minor": 0,
  "metadata": {
    "colab": {
      "provenance": []
    },
    "kernelspec": {
      "name": "python3",
      "display_name": "Python 3"
    },
    "language_info": {
      "name": "python"
    }
  },
  "cells": [
    {
      "cell_type": "code",
      "execution_count": 17,
      "metadata": {
        "colab": {
          "base_uri": "https://localhost:8080/"
        },
        "id": "312bFUzVB9x3",
        "outputId": "4dcfc92b-5b59-4734-e1af-cf69c57799aa"
      },
      "outputs": [
        {
          "output_type": "stream",
          "name": "stdout",
          "text": [
            "Do you want to withdraw or deposit?\n",
            "deposit\n",
            "Enter the amount: 1250\n",
            "1250\n",
            "Do you want to withdraw or deposit?\n",
            "withdraw\n",
            "Enter the amount: 115\n",
            "1135\n"
          ]
        }
      ],
      "source": [
        "class bank:\n",
        "    def __init__(self, pin, balance=0):\n",
        "        self.pin = pin\n",
        "        self.balance = balance\n",
        "\n",
        "    def deposit(self, amount):\n",
        "        if self.pin == 1234:\n",
        "            self.balance += amount\n",
        "            return self.balance\n",
        "        else:\n",
        "            return False\n",
        "\n",
        "    def withdraw(self, amount):\n",
        "        if self.pin == 1234:\n",
        "            self.balance -= amount\n",
        "            return self.balance\n",
        "        else:\n",
        "            return False\n",
        "\n",
        "Bank = bank(1234)\n",
        "\n",
        "for i in range(2):\n",
        "    print(\"Do you want to withdraw or deposit?\")\n",
        "    do = input()\n",
        "    if do == \"withdraw\":\n",
        "        Rs = int(input(\"Enter the amount: \"))\n",
        "        print(Bank.withdraw(Rs))\n",
        "    elif do == \"deposit\":\n",
        "        Rs = int(input(\"Enter the amount: \"))\n",
        "        print(Bank.deposit(Rs))\n",
        "    else:\n",
        "        print(\"Invalid option. Please choose 'withdraw' or 'deposit'.\")\n",
        "\n",
        "\n",
        "\n"
      ]
    }
  ]
}