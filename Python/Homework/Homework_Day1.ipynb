{
  "nbformat": 4,
  "nbformat_minor": 0,
  "metadata": {
    "colab": {
      "provenance": []
    },
    "kernelspec": {
      "name": "python3",
      "display_name": "Python 3"
    },
    "language_info": {
      "name": "python"
    }
  },
  "cells": [
    {
      "cell_type": "code",
      "execution_count": 3,
      "metadata": {
        "colab": {
          "base_uri": "https://localhost:8080/"
        },
        "id": "q4GWkvDdotFr",
        "outputId": "efa6e245-4fa2-4f6b-fa81-2d0449ec3389"
      },
      "outputs": [
        {
          "output_type": "stream",
          "name": "stdout",
          "text": [
            "Enter a number-1\n",
            "The entered number is negative\n"
          ]
        }
      ],
      "source": [
        "# Q1.Write a program to check wheather a number is positive or not.\n",
        "user_input = int(input(\"Enter a number\"))\n",
        "if (user_input < 0):\n",
        "  print(\"The entered number is negative\")\n",
        "else:\n",
        "  print(\"The entered number is positive\")"
      ]
    },
    {
      "cell_type": "code",
      "source": [
        "# Q2.Write a Python program to determine if a given year is a leap year.\n",
        "user_input = int(input(\"enter any year\"))\n",
        "if (user_input > 1950):\n",
        "  if (user_input % 4 == 0):\n",
        "    print(\"It is a leap year\")\n",
        "  else:\n",
        "    print(\"It is not a leap year\")\n",
        "else:\n",
        "  print(\"The year you are requesting is too old\")"
      ],
      "metadata": {
        "colab": {
          "base_uri": "https://localhost:8080/"
        },
        "id": "T_KtoVouqhJ2",
        "outputId": "73d2ad84-5e61-4c9a-aab2-ba990c6d45b8"
      },
      "execution_count": 8,
      "outputs": [
        {
          "output_type": "stream",
          "name": "stdout",
          "text": [
            "enter any year1952\n",
            "It is a leap year\n"
          ]
        }
      ]
    },
    {
      "cell_type": "code",
      "source": [
        "from ast import Break\n",
        "# Write a program to determine the grades to stduent\n",
        "user_input = int (input (\"please! enter your mark in any subject\"))\n",
        "I = user_input/20\n",
        "def grade(I):\n",
        "  match I:\n",
        "   case 1:\n",
        "    return \"You're GRADE 5\"\n",
        "   case 2:\n",
        "    return \"you're GRADE 4\"\n",
        "   case 3:\n",
        "    return \"you're GRADE 3\"\n",
        "   case 4:\n",
        "    return \"you're GRADE 2\"\n",
        "   case 5:\n",
        "    return \"you're GRADE 1\"\n",
        "print( grade(I))"
      ],
      "metadata": {
        "colab": {
          "base_uri": "https://localhost:8080/"
        },
        "id": "4alvoLWItKkv",
        "outputId": "f2e282ba-e5f1-4cf2-865c-773756c53a75"
      },
      "execution_count": 16,
      "outputs": [
        {
          "output_type": "stream",
          "name": "stdout",
          "text": [
            "please! enter your mark in any subject80\n",
            "you're GRADE 2\n"
          ]
        }
      ]
    },
    {
      "cell_type": "code",
      "source": [
        "# Write a program to check whether a number is even or odd\n",
        "def is_even(n):\n",
        "    if n % 2 == 0:\n",
        "      return \"The entered number is even\"\n",
        "    else:\n",
        "      return \"The entered number is odd\"\n",
        "\n",
        "print(is_even(4))\n",
        "print(is_even(5))\n"
      ],
      "metadata": {
        "colab": {
          "base_uri": "https://localhost:8080/"
        },
        "id": "Izso_roL1lNS",
        "outputId": "6bce649c-79ab-43b8-d5fc-45986abc6b0d"
      },
      "execution_count": 17,
      "outputs": [
        {
          "output_type": "stream",
          "name": "stdout",
          "text": [
            "The entered number is even\n",
            "The entered number is odd\n"
          ]
        }
      ]
    },
    {
      "cell_type": "code",
      "source": [
        "# Write a program to greet a given name\n",
        "def greet(name):\n",
        "    return (\"Hello!\",name)\n",
        "\n",
        "greet(\"Alice\")\n"
      ],
      "metadata": {
        "colab": {
          "base_uri": "https://localhost:8080/"
        },
        "id": "IYevoED34SrD",
        "outputId": "f81d5a60-88cd-4489-c27f-2cdad8ea8593"
      },
      "execution_count": 20,
      "outputs": [
        {
          "output_type": "execute_result",
          "data": {
            "text/plain": [
              "('Hello!', 'Alice')"
            ]
          },
          "metadata": {},
          "execution_count": 20
        }
      ]
    }
  ]
}