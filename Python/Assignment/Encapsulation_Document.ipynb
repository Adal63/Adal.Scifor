{
  "nbformat": 4,
  "nbformat_minor": 0,
  "metadata": {
    "colab": {
      "provenance": []
    },
    "kernelspec": {
      "name": "python3",
      "display_name": "Python 3"
    },
    "language_info": {
      "name": "python"
    }
  },
  "cells": [
    {
      "cell_type": "code",
      "execution_count": null,
      "metadata": {
        "id": "J-wVhJydAEH_"
      },
      "outputs": [],
      "source": [
        "ENCAPSULATION:\n",
        "\n",
        "    *  Encapsulation in python is one of the fundamental concepts of object-oriented programming (OOP) where attributes(data) and methods that operates on\n",
        "       those are bind together into a single unit called class. This promotes data protection, code modularity and improved code maintainability.\n",
        "\n",
        "KEY POINTS:\n",
        "\n",
        "    *  Data Hiding: Encapsulation restrict access to the privite data. The access is limited to the methods of that particular class.\n",
        "       This is helps in preventing accedential modification from outside the class.\n",
        "\n",
        "    *  Methods Control Access: Methods act as the interface for accessing and manipulating the class's data.\n",
        "       They have controlled access to attributes, ensuring data integrity.\n",
        "\n",
        "    *  Improves Code Maintainabilty: By controlling access, encapsulation makes code easier to understand, modify, and debug.\n",
        "       Changes to internal data structures are less likely to break other parts of the code.\n",
        "\n",
        "PYTHON'S APPROACH TO ENCAPSULATION:\n",
        "\n",
        "    *  Unlike some languages with strict access modifiers (public, private, protected), Python relies on conventions to achieve encapsulation.\n",
        "       Here's how it works:\n",
        "\n",
        "\n",
        "    *  Public Attributes (Single Underscore Prefix): Attributes prefixed with a single underscore (_) are considered public by convention but are meant to be\n",
        "       accessed within the class or its subclasses. While technically accessible from outside, it's a strong suggestion to treat them as private.\n",
        "\n",
        "\n",
        "    *  Private Attributes (Double Underscore Prefix): Attributes prefixed with a double underscore (__) are considered private by convention and are\n",
        "       intended for internal use only. They are mangled by Python to make them harder to access from outside the class, but it's not foolproof\n",
        "       (avoid direct access from outside).\n",
        "\n",
        "BENIFITS OF ENCAPSULATION:\n",
        "\n",
        "    *  Data Protection: Encapsulation safeguards data from unintended modification, promoting consistency and reliability.\n",
        "\n",
        "    *  Modular Code: Classes become self-contained units, making code more organized and easier to reuse.\n",
        "\n",
        "    *  Improved Maintainability: Changes within a class are less likely to affect other parts of the codebase.\n",
        "\n",
        "    *  Clearer Interfaces: Class methods provide a well-defined way to interact with the class's data.\n",
        "\n",
        "REAL-LIFE EXAMPLE:\n",
        "\n",
        "    * A car could be a best real life example of encapsulation. As we cannot switch on  a car without its key similar to a private attribute\n",
        "      cant be accessed without its method.\n",
        "    * Here, a car key plays the role of private attributes, car key plays the role of public method and car plays the role of class."
      ]
    },
    {
      "cell_type": "code",
      "source": [
        "# IMPLEMENTATION OF ENCAPSULATION IN PYTHON:\n",
        "\n",
        "class BankAccount:\n",
        "    def __init__(self, balance):\n",
        "        self.__balance = balance  # Private attribute\n",
        "\n",
        "    def get_balance(self):\n",
        "        return self.__balance  # Public method to access private data\n",
        "\n",
        "    def deposit(self, amount):\n",
        "        self.__balance += amount  # Private attribute modified within the class\n",
        "\n",
        "account1 = BankAccount(1000)\n",
        "print(account1.get_balance())  # Output: 1000 (Public method provides access)\n",
        "\n",
        "# Attempting to access the private attribute directly (not recommended)\n",
        "# print(account1.__balance)  # Would result in a mangled name like `_BankAccount__balance`"
      ],
      "metadata": {
        "id": "qohrYkA099ou"
      },
      "execution_count": null,
      "outputs": []
    },
    {
      "cell_type": "markdown",
      "source": [
        "## bold text"
      ],
      "metadata": {
        "id": "6916u0aPAPiu"
      }
    }
  ]
}