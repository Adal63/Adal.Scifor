{
  "nbformat": 4,
  "nbformat_minor": 0,
  "metadata": {
    "colab": {
      "provenance": []
    },
    "kernelspec": {
      "name": "python3",
      "display_name": "Python 3"
    },
    "language_info": {
      "name": "python"
    }
  },
  "cells": [
    {
      "cell_type": "code",
      "execution_count": null,
      "metadata": {
        "id": "IKC0kUFxcEec"
      },
      "outputs": [],
      "source": [
        "# Merge Strings Alternately\n",
        "class Solution(object):\n",
        "    def mergeAlternately(self, word1, word2):\n",
        "        \"\"\"\n",
        "        :type word1: str\n",
        "        :type word2: str\n",
        "        :rtype: str\n",
        "        \"\"\"\n",
        "        i, merged_string = 0, \"\"\n",
        "        while i < len(word1) or i < len(word2):\n",
        "            if i < len(word1):\n",
        "                merged_string += word1[i]\n",
        "            if i < len(word2):\n",
        "                merged_string += word2[i]\n",
        "            i += 1\n",
        "        return merged_string"
      ]
    },
    {
      "cell_type": "code",
      "source": [
        "# Find the Difference\n",
        "class Solution(object):\n",
        "    def findTheDifference(self, s, t):\n",
        "        \"\"\"\n",
        "        :type s: str\n",
        "        :type t: str\n",
        "        :rtype: str\n",
        "        \"\"\"\n",
        "        s_sorted = sorted(s)\n",
        "        t_sorted = sorted(t)\n",
        "        for i in range(len(s)):\n",
        "            if s_sorted[i] != t_sorted[i]:\n",
        "                return t_sorted[i]\n",
        "        return t_sorted[-1]"
      ],
      "metadata": {
        "id": "YxDWPtGscVA2"
      },
      "execution_count": null,
      "outputs": []
    },
    {
      "cell_type": "code",
      "source": [
        "# Find the Index of the First Occurrence in a String\n",
        "class Solution(object):\n",
        "    def strStr(self, haystack, needle):\n",
        "        \"\"\"\n",
        "        :type haystack: str\n",
        "        :type needle: str\n",
        "        :rtype: int\n",
        "        \"\"\"\n",
        "        if needle in haystack:\n",
        "            for i in range(len(haystack) - len(needle) + 1):\n",
        "                if needle == haystack[i:i + len(needle)]:\n",
        "                    return i\n",
        "        return -1"
      ],
      "metadata": {
        "id": "JKFU1bn8ciOr"
      },
      "execution_count": null,
      "outputs": []
    },
    {
      "cell_type": "code",
      "source": [
        "# Valid Anagram\n",
        "class Solution(object):\n",
        "    def isAnagram(self, s, t):\n",
        "        \"\"\"\n",
        "        :type s: str\n",
        "        :type t: str\n",
        "        :rtype: bool\n",
        "        \"\"\"\n",
        "        return sorted(s) == sorted(t)\n",
        ""
      ],
      "metadata": {
        "id": "DSAVOGGnlxIx"
      },
      "execution_count": null,
      "outputs": []
    },
    {
      "cell_type": "code",
      "source": [
        "# Repeated Substring Pattern\n",
        "class Solution(object):\n",
        "    def repeatedSubstringPattern(self, s):\n",
        "        \"\"\"\n",
        "        :type s: str\n",
        "        :rtype: bool\n",
        "        \"\"\"\n",
        "        for i in range(1, len(s) // 2 + 1):\n",
        "            curr_substring = s[:i]\n",
        "            j = i\n",
        "            while j < len(s) and s[j:j + i] == curr_substring:\n",
        "                j += i\n",
        "            if j == len(s):\n",
        "                return True\n",
        "        return False"
      ],
      "metadata": {
        "id": "vmhAQ00SmfMg"
      },
      "execution_count": null,
      "outputs": []
    },
    {
      "cell_type": "code",
      "source": [
        "# Move Zeroes\n",
        "class Solution(object):\n",
        "    def moveZeroes(self, nums):\n",
        "        \"\"\"\n",
        "        :type nums: List[int]\n",
        "        :rtype: None Do not return anything, modify nums in-place instead.\n",
        "        \"\"\"\n",
        "        non_zero_index = 0\n",
        "        for i in range(len(nums)) :\n",
        "            if nums[i] != 0 :\n",
        "                nums[i], nums[non_zero_index] = nums[non_zero_index], nums[i]\n",
        "                non_zero_index += 1"
      ],
      "metadata": {
        "id": "oEi18xOntfXD"
      },
      "execution_count": null,
      "outputs": []
    },
    {
      "cell_type": "code",
      "source": [
        "# plus one\n",
        "class Solution(object):\n",
        "    def plusOne(self, digits):\n",
        "        \"\"\"\n",
        "        :type digits: List[int]\n",
        "        :rtype: List[int]\n",
        "        \"\"\"\n",
        "        carry = 1\n",
        "        for i in range(len(digits) - 1, -1, -1):\n",
        "            total = digits[i] + carry\n",
        "            digits[i] = total % 10\n",
        "            carry = total // 10\n",
        "        if carry:\n",
        "            digits.insert(0, carry)\n",
        "\n",
        "        return digits\n",
        "\n",
        ""
      ],
      "metadata": {
        "id": "dE1YXv9zt4G4"
      },
      "execution_count": null,
      "outputs": []
    },
    {
      "cell_type": "code",
      "source": [
        "# Sign of the Product of an Array\n",
        "class Solution(object):\n",
        "    def arraySign(self, nums):\n",
        "        \"\"\"\n",
        "        :type nums: List[int]\n",
        "        :rtype: int\n",
        "        \"\"\"\n",
        "        def signFunc(x):\n",
        "            if x > 0:\n",
        "                return 1\n",
        "            elif x < 0:\n",
        "                return -1\n",
        "            else:\n",
        "                return 0\n",
        "\n",
        "        def sign_of_product(nums):\n",
        "            product = 1\n",
        "            for num in nums:\n",
        "                product *= num\n",
        "            return signFunc(product)\n"
      ],
      "metadata": {
        "id": "Rre1JGJFuZXI"
      },
      "execution_count": null,
      "outputs": []
    },
    {
      "cell_type": "code",
      "source": [
        "# Can Make Arithmetic Progression From Sequence\n",
        "class Solution(object):\n",
        "    def canMakeArithmeticProgression(self, arr):\n",
        "        \"\"\"\n",
        "        :type arr: List[int]\n",
        "        :rtype: bool\n",
        "        \"\"\"\n",
        "        arr.sort()\n",
        "        d = arr[1] - arr[0]\n",
        "        for i in range(1, len(arr)):\n",
        "            if arr[i] - arr[i - 1] != d:\n",
        "                return False\n",
        "        return True\n",
        ""
      ],
      "metadata": {
        "id": "hG89ANDn2uUW"
      },
      "execution_count": null,
      "outputs": []
    },
    {
      "cell_type": "code",
      "source": [
        "# Monotonic Array\n",
        "class Solution(object):\n",
        "    def isMonotonic(self, nums):\n",
        "        \"\"\"\n",
        "        :type nums: List[int]\n",
        "        :rtype: bool\n",
        "        \"\"\"\n",
        "        increasing = decreasing = True\n",
        "        for i in range(len(nums) - 1):\n",
        "            if nums[i] > nums[i + 1]:\n",
        "                increasing = False\n",
        "            elif nums[i] < nums[i + 1]:\n",
        "                decreasing = False\n",
        "        return increasing or decreasing"
      ],
      "metadata": {
        "id": "afzafYWL50aL"
      },
      "execution_count": null,
      "outputs": []
    },
    {
      "cell_type": "code",
      "source": [
        "# Roman to Integer\n",
        "class Solution(object):\n",
        "    def romanToInt(self, s):\n",
        "        \"\"\"\n",
        "        :type s: str\n",
        "        :rtype: int\n",
        "        \"\"\"\n",
        "        roman_value = {'I': 1, 'V': 5, 'X': 10, 'L': 50, 'C': 100, 'D': 500, 'M': 1000}\n",
        "        total = 0\n",
        "        for i in range(len(s)) :\n",
        "            if i + 1 < len(s) and roman_value[s[i]] < roman_value[s[i + 1]]:\n",
        "                total -= roman_value[s[i]]\n",
        "            else :\n",
        "                total += roman_value[s[i]]\n",
        "        return total\n"
      ],
      "metadata": {
        "id": "GhEXhtMT6jSO"
      },
      "execution_count": null,
      "outputs": []
    }
  ]
}