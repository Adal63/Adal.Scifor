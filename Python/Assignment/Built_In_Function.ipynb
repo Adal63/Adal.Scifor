{
  "nbformat": 4,
  "nbformat_minor": 0,
  "metadata": {
    "colab": {
      "provenance": []
    },
    "kernelspec": {
      "name": "python3",
      "display_name": "Python 3"
    },
    "language_info": {
      "name": "python"
    }
  },
  "cells": [
    {
      "cell_type": "code",
      "execution_count": null,
      "metadata": {
        "id": "-03fsXOrGJEA"
      },
      "outputs": [],
      "source": [
        "# Topic : Length of the last word\n",
        "# Question : Given a string s consisting of words and spaces, return the length of the last word in the string.\n",
        "class Solution(object):\n",
        "    def lengthOfLastWord(self, s):\n",
        "        \"\"\"\n",
        "        :type s: str\n",
        "        :rtype: int\n",
        "        \"\"\"\n",
        "        String_Split = s.split()\n",
        "        Last_Word = String_Split[-1]\n",
        "        return len(Last_Word)\n"
      ]
    },
    {
      "cell_type": "code",
      "source": [
        "# Topic : Convert to lower case\n",
        "# Given a string s, return the string after replacing every uppercase letter with the same lowercase letter.\n",
        "class Solution(object):\n",
        "    def toLowerCase(self, s):\n",
        "        \"\"\"\n",
        "        :type s: str\n",
        "        :rtype: str\n",
        "        \"\"\"\n",
        "        return s.lower()"
      ],
      "metadata": {
        "id": "8o_BJy79GlUx"
      },
      "execution_count": null,
      "outputs": []
    }
  ]
}