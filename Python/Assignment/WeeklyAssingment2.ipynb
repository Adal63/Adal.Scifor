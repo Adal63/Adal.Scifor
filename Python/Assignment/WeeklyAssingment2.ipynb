{
  "nbformat": 4,
  "nbformat_minor": 0,
  "metadata": {
    "colab": {
      "provenance": []
    },
    "kernelspec": {
      "name": "python3",
      "display_name": "Python 3"
    },
    "language_info": {
      "name": "python"
    }
  },
  "cells": [
    {
      "cell_type": "code",
      "execution_count": 7,
      "metadata": {
        "colab": {
          "base_uri": "https://localhost:8080/"
        },
        "id": "HpiGJRC5l1am",
        "outputId": "48326c24-2815-4b69-debb-f131f8a751e7"
      },
      "outputs": [
        {
          "output_type": "stream",
          "name": "stdout",
          "text": [
            "True\n"
          ]
        }
      ],
      "source": [
        "#Q1: Valid Palindrome(LeetCode problem):\n",
        "class Solution:\n",
        "    def __init__(self, s):\n",
        "        self.s = s\n",
        "\n",
        "    def isPalindrome(self):\n",
        "        # Lower the case and include the character in a resulting string if it is alphanumeric\n",
        "        S = ''.join([char.lower() for char in self.s if char.isalnum()])\n",
        "        # Check if the cleaned string is a palindrome\n",
        "        return S == S[::-1]\n",
        "\n",
        "string = \"A man, a plan, a canal: Panama\"\n",
        "solution = Solution(string)\n",
        "print(solution.isPalindrome())"
      ]
    },
    {
      "cell_type": "code",
      "source": [
        "#Q2: Write a Python function that takes a string as input and returns the reverse of that string\n",
        "def reverse_string(input_string):\n",
        "     return input_string[::-1]\n",
        "\n",
        "input_str = \"Hello, World!\"\n",
        "reversed_str = reverse_string(input_str)\n",
        "print(reversed_str)\n"
      ],
      "metadata": {
        "colab": {
          "base_uri": "https://localhost:8080/"
        },
        "id": "K8RpGWWHpcTz",
        "outputId": "4d39f436-3534-4b3e-a937-bc8ba68de8e1"
      },
      "execution_count": 11,
      "outputs": [
        {
          "output_type": "stream",
          "name": "stdout",
          "text": [
            "!dlroW ,olleH\n"
          ]
        }
      ]
    },
    {
      "cell_type": "code",
      "source": [
        "#Q3: Write a Python function that takes a string as input and returns the count of vowels\n",
        "def count_vowels(input_string):\n",
        "    vowels = \"aeiouAEIOU\"\n",
        "    count = 0\n",
        "    for char in input_string:\n",
        "        if char in vowels:\n",
        "            count += 1\n",
        "    return count\n",
        "\n",
        "input_str = \"Hello, World!\"\n",
        "vowel_count = count_vowels(input_str)\n",
        "print(vowel_count)"
      ],
      "metadata": {
        "colab": {
          "base_uri": "https://localhost:8080/"
        },
        "id": "AMRfY2DcsbeN",
        "outputId": "c16caa5f-506e-4b17-d25b-936a81930bd7"
      },
      "execution_count": 1,
      "outputs": [
        {
          "output_type": "stream",
          "name": "stdout",
          "text": [
            "3\n"
          ]
        }
      ]
    },
    {
      "cell_type": "code",
      "source": [
        "#Q4: Write a Python function that takes two strings as input and returns True if they are anagrams of each other, and False otherwise.\n",
        "def is_anagram(str1, str2):\n",
        "  list1 = list(str1)\n",
        "  list2 = list(str2)\n",
        "  list1.sort()\n",
        "  list2.sort()\n",
        "  return (list1 == list2)\n",
        "\n",
        "string1 = \"listen\"\n",
        "string2 = \"silent\"\n",
        "is_anagram(string1, string2)"
      ],
      "metadata": {
        "colab": {
          "base_uri": "https://localhost:8080/"
        },
        "id": "9P9Oh06iS78r",
        "outputId": "157b153c-996f-4731-8312-843212c214a1"
      },
      "execution_count": 3,
      "outputs": [
        {
          "output_type": "execute_result",
          "data": {
            "text/plain": [
              "True"
            ]
          },
          "metadata": {},
          "execution_count": 3
        }
      ]
    },
    {
      "cell_type": "code",
      "source": [
        "#Q5: Write a Python function that takes a string as input and returns a new string with the first letter of each word capitalized.\n",
        "def capitalize_words(input_string):\n",
        "    return input_string.title()\n",
        "input_str = \"hello world\"\n",
        "capitalized_str = capitalize_words(input_str)\n",
        "print(capitalized_str)"
      ],
      "metadata": {
        "colab": {
          "base_uri": "https://localhost:8080/"
        },
        "id": "6V374PFqU4O3",
        "outputId": "299f6f53-ada8-442c-f187-e3725f8e06f2"
      },
      "execution_count": 5,
      "outputs": [
        {
          "output_type": "stream",
          "name": "stdout",
          "text": [
            "Hello World\n"
          ]
        }
      ]
    }
  ]
}