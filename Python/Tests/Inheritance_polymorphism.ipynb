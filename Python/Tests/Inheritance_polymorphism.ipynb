{
  "nbformat": 4,
  "nbformat_minor": 0,
  "metadata": {
    "colab": {
      "provenance": []
    },
    "kernelspec": {
      "name": "python3",
      "display_name": "Python 3"
    },
    "language_info": {
      "name": "python"
    }
  },
  "cells": [
    {
      "cell_type": "code",
      "execution_count": 7,
      "metadata": {
        "colab": {
          "base_uri": "https://localhost:8080/"
        },
        "id": "W8C9Lt4HG71Z",
        "outputId": "774e8d86-184b-4318-9b3b-610c4860934c"
      },
      "outputs": [
        {
          "output_type": "stream",
          "name": "stdout",
          "text": [
            "Vehicle makes noise\n",
            "Car makes noise\n",
            "Vehicle makes noise\n",
            "Car makes noise\n",
            "Sports car makes noise\n",
            "Vehicle makes noise\n",
            "Car makes noise\n",
            "Commerical car makes noise\n",
            "Vehicle makes noise\n",
            "Truck makes noise\n",
            "Car makes noise\n",
            "Vehicle makes noise\n",
            "Vehicle makes noise\n",
            "Vehicle makes noise\n",
            "Truck makes noise\n",
            "Goods truck makes noise\n"
          ]
        }
      ],
      "source": [
        "#Q1: Implement all types of inheritance:\n",
        "\n",
        "class vehicle:\n",
        "  def vehicle_sound(self):\n",
        "    return \"Vehicle makes noise\"   # Base class\n",
        "\n",
        "class car(vehicle):\n",
        "  def car_sound(self):\n",
        "    return \"Car makes noise\"       # Derived from vehicle\n",
        "\n",
        "class sports_car(car):\n",
        "  def sports_car_sound(self):\n",
        "    return \"Sports car makes noise\"  # Derived from car\n",
        "\n",
        "class commerical_car(car,vehicle):\n",
        "  def commerical_car_sound(self):\n",
        "    return \"Commerical car makes noise\"  # Derived from car and vehicle\n",
        "\n",
        "class truck(vehicle):\n",
        "  def truck_sound(self):\n",
        "    return \"Truck makes noise\"       # Derived from vehicle\n",
        "\n",
        "class goods_truck(truck):\n",
        "  def goods_truck_sound(self):\n",
        "    return \"Goods truck makes noise\"   # Derived from truck\n",
        "\n",
        "class super_goods_truck(goods_truck,truck):\n",
        "  def super_goods_truck_sound(self):\n",
        "    return \"Super goods truck makes noise\"  # Derived from goods and truck\n",
        "\n",
        "Car = car()\n",
        "print(Car.vehicle_sound())\n",
        "print(Car.car_sound()) # single level inheritance\n",
        "\n",
        "Sports_car = sports_car()\n",
        "print(Sports_car.vehicle_sound())\n",
        "print(Sports_car.car_sound())\n",
        "print(Sports_car.sports_car_sound()) # multi level inheritance\n",
        "\n",
        "Commerical_car = commerical_car()\n",
        "print(Commerical_car.vehicle_sound())\n",
        "print(Commerical_car.car_sound())\n",
        "print(Commerical_car.commerical_car_sound()) # multiple inheritance\n",
        "\n",
        "Truck = truck()\n",
        "print(Truck.vehicle_sound())\n",
        "print(Truck.truck_sound())\n",
        "print(Car.car_sound())\n",
        "print(Sports_car.vehicle_sound())\n",
        "print(Commerical_car.vehicle_sound()) # hierarchical inheritance\n",
        "\n",
        "Super_goods_truck = super_goods_truck()\n",
        "print(Super_goods_truck.vehicle_sound())\n",
        "print(Super_goods_truck.truck_sound())\n",
        "print(Super_goods_truck.goods_truck_sound())  # hybrid Inheritance\n",
        "\n",
        "\"\"\" Explaination:\n",
        "        Single level : car gets derived from vehicle class.\n",
        "\n",
        "        multi-level  : sports_car gets derived from car class whcih gets derived from vehicle class.\n",
        "\n",
        "        multiple     : commerical_car gets derived from car and vehicle class which is more than one parent.\n",
        "\n",
        "        hierarchical : truck gets derived from vehicle class, car gets derived from vehicle class,\n",
        "                       sports_car gets derived from car class and so on forming a hierarchy of inheritance.\n",
        "\n",
        "        hybrid       : truck gets inherited from vehicle class which is single level inheritance and\n",
        "                       super_goods_truck gets inherited from goods_truck and truck class which is multi level inheritance.\n",
        "                       Thus it forms a hybrid inheritance.\n",
        "\"\"\""
      ]
    },
    {
      "cell_type": "code",
      "source": [
        "# Q2: Implement method overriding:\n",
        "\n",
        "class vehicle:\n",
        "  def makes_sound(self):\n",
        "    return \"Vehicle makes noise\"   # Base class\n",
        "\n",
        "class car(vehicle):\n",
        "  def makes_sound(self):\n",
        "    return \"Car makes noise\"       # Derived from vehicle\n",
        "\n",
        "Car = car()\n",
        "print(Car.makes_sound())   # Here, makes_sound() methods child class overrides the method of parent class"
      ],
      "metadata": {
        "colab": {
          "base_uri": "https://localhost:8080/"
        },
        "id": "sQXjvNQ7Q6hg",
        "outputId": "5cdfc014-2599-4ea1-be53-37f69f26d6c7"
      },
      "execution_count": 8,
      "outputs": [
        {
          "output_type": "stream",
          "name": "stdout",
          "text": [
            "Car makes noise\n"
          ]
        }
      ]
    },
    {
      "cell_type": "code",
      "source": [
        "# Q3: Implement method overloading:\n",
        "\n",
        "class add:\n",
        "  def add(self,a,b,c=None):\n",
        "    if c!=None:\n",
        "      return a+b+c\n",
        "    else:\n",
        "      return a+b\n",
        "\n",
        "Add = add()\n",
        "print(Add.add(1,2))\n",
        "print(Add.add(1,2,3))  # same method does different task based on different args"
      ],
      "metadata": {
        "colab": {
          "base_uri": "https://localhost:8080/"
        },
        "id": "JMfVi4zTSKyV",
        "outputId": "0c386cbe-9983-4ee1-db92-12d01bc5d734"
      },
      "execution_count": 14,
      "outputs": [
        {
          "output_type": "stream",
          "name": "stdout",
          "text": [
            "3\n",
            "6\n"
          ]
        }
      ]
    }
  ]
}