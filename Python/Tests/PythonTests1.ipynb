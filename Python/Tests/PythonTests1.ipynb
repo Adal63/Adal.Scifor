{
  "nbformat": 4,
  "nbformat_minor": 0,
  "metadata": {
    "colab": {
      "provenance": []
    },
    "kernelspec": {
      "name": "python3",
      "display_name": "Python 3"
    },
    "language_info": {
      "name": "python"
    }
  },
  "cells": [
    {
      "cell_type": "code",
      "execution_count": 1,
      "metadata": {
        "colab": {
          "base_uri": "https://localhost:8080/"
        },
        "id": "IhJdKZIF3WLs",
        "outputId": "94976048-09be-4749-a1c4-90e52090dc7b"
      },
      "outputs": [
        {
          "output_type": "stream",
          "name": "stdout",
          "text": [
            "Toyota\n"
          ]
        }
      ],
      "source": [
        "#Q1: Encapsulation is the concept of bundling data and methods together in a single unit.\n",
        "# Real life example of encapsulation would be the a \"car\" where we can only access the using a \"car key\".\n",
        "class car:\n",
        "    def __init__(self, name):\n",
        "        self.__name = name\n",
        "    def showname(self):\n",
        "        return self.__name\n",
        "car1 = car(\"Toyota\")\n",
        "print(car1.showname())\n",
        "# Here direct access to varible is limited\n",
        "# we can only use showname() method to access \"name\" variable.\n"
      ]
    },
    {
      "cell_type": "code",
      "source": [
        "#Q2: Polymorphism is a concept of \"oops\" where a same method of a particular class or same method of differnt class perform differnt operations based on the input we give or instance we call or agruments we pass.\n",
        "# Real life example of polymorphism would be students with same name and whenever the teacher call the with their inital or with their last name the coressponding student response.\n",
        "class bus:\n",
        "  def makesound(self):\n",
        "    return \"I make paam-paam sound\"\n",
        "class bike:\n",
        "  def makesound(self):\n",
        "    return \"I make vroom vroom sound\"\n",
        "bus1 = bus()\n",
        "bike1 = bike()\n",
        "print(bus1.makesound())\n",
        "print(bike1.makesound())\n",
        "# Here the makesound methods gets involed based on the instance of the class we provide."
      ],
      "metadata": {
        "colab": {
          "base_uri": "https://localhost:8080/"
        },
        "id": "mbGU94pQ9Lz9",
        "outputId": "c8f81fe8-ef41-4aad-a644-64e8b56d82fa"
      },
      "execution_count": 18,
      "outputs": [
        {
          "output_type": "stream",
          "name": "stdout",
          "text": [
            "I make paam-paam sound\n",
            "I make vroom vroom sound\n"
          ]
        }
      ]
    },
    {
      "cell_type": "code",
      "source": [
        "#Q3: Single level inheritance is where one child gets inherited (can be to access methods and variables of parents) from parent class\n",
        "class parent:\n",
        "  def parent(self):\n",
        "    return \"I am parent\"\n",
        "class child(parent):\n",
        "  def child(self):\n",
        "    return \"I am child\"\n",
        "child1 = child()\n",
        "print(child1.parent())\n",
        "print(child1.child())\n",
        "# In this code, child class can access the method of parent class by call in it with the insatance of child class"
      ],
      "metadata": {
        "colab": {
          "base_uri": "https://localhost:8080/"
        },
        "id": "PyGHDEUnCApy",
        "outputId": "e5203d21-6c46-41f9-a68a-d999cf8e1e52"
      },
      "execution_count": 19,
      "outputs": [
        {
          "output_type": "stream",
          "name": "stdout",
          "text": [
            "I am parent\n",
            "I am child\n"
          ]
        }
      ]
    },
    {
      "cell_type": "code",
      "source": [
        "#Q4: Multiple inheritance is a type of inheritance where chid class have two or more parent class.\n",
        "class mother:\n",
        "  def mother(self):\n",
        "    return \"I am mother\"\n",
        "class father:\n",
        "  def father(self):\n",
        "    return \"I am father\"\n",
        "class child(mother, father):\n",
        "  def child(self):\n",
        "    return \"I am child\"\n",
        "child1 = child()\n",
        "print(child1.mother())\n",
        "print(child1.father())\n",
        "print(child1.child())\n",
        "# In this code, child class can access the method of mother and father class by call in it with the insatance of child class"
      ],
      "metadata": {
        "colab": {
          "base_uri": "https://localhost:8080/"
        },
        "id": "cOqsxMEqDJ6D",
        "outputId": "0148ef02-8cbb-4a73-c41d-621df38dafee"
      },
      "execution_count": 20,
      "outputs": [
        {
          "output_type": "stream",
          "name": "stdout",
          "text": [
            "I am mother\n",
            "I am father\n",
            "I am child\n"
          ]
        }
      ]
    },
    {
      "cell_type": "code",
      "source": [
        "#Q5: Multi_level inheritance is a type of inheritance where one parent class have a chid class and that chid class have sub-child class forming a chain of inheritance\n",
        "class grandfather:\n",
        "  def grandfather(self):\n",
        "    return \"I am grandfather\"\n",
        "class father(grandfather):\n",
        "  def father(self):\n",
        "    return \"I am father\"\n",
        "class child(father):\n",
        "  def child(self):\n",
        "    return \"I am child\"\n",
        "child1 = child()\n",
        "print(child1.grandfather())\n",
        "print(child1.father())\n",
        "print(child1.child())\n",
        "# In this code, here child gets inherited from father and father also gets inherited from grandfather.\n",
        "#child class can access the method of grandfather and father class by call in it with the insatance of child class."
      ],
      "metadata": {
        "colab": {
          "base_uri": "https://localhost:8080/"
        },
        "id": "rpZl-7XxD-rL",
        "outputId": "0f6cafc5-823d-4f58-9efa-685f7aa42122"
      },
      "execution_count": 21,
      "outputs": [
        {
          "output_type": "stream",
          "name": "stdout",
          "text": [
            "I am grandfather\n",
            "I am father\n",
            "I am child\n"
          ]
        }
      ]
    },
    {
      "cell_type": "code",
      "source": [
        "#Q6: Conditional statements in python excutes statements based in the condition we give.\n",
        "a = 10\n",
        "if a > 5:\n",
        "  print(\"a is greater than 5\")\n",
        "else:\n",
        "  print(\"a is not greater than 5\")\n",
        "# here the if part is executed only when condition true."
      ],
      "metadata": {
        "colab": {
          "base_uri": "https://localhost:8080/"
        },
        "id": "W7MN1HeFFWkO",
        "outputId": "04136cc2-54f4-49ea-f6b1-4b7a539be806"
      },
      "execution_count": 22,
      "outputs": [
        {
          "output_type": "stream",
          "name": "stdout",
          "text": [
            "a is greater than 5\n"
          ]
        }
      ]
    },
    {
      "cell_type": "code",
      "source": [
        "#Q7: Decision making statement in python decides which statement should be executed based on conditions.\n",
        "a = 10\n",
        "if a > 5:\n",
        "  print(\"a is greater than 5\")\n",
        "elif a < 5:\n",
        "  print(\"a is less than 5\")\n",
        "else:\n",
        "  print(\"a is equal to 5\")\n",
        "# here the execution of statements is decided by condition (in this case  a > 5 and a < 5  )"
      ],
      "metadata": {
        "colab": {
          "base_uri": "https://localhost:8080/"
        },
        "id": "HofsOYOhGOgg",
        "outputId": "b3347edc-b5f0-43e4-eb1a-74cbf55ecb7b"
      },
      "execution_count": 23,
      "outputs": [
        {
          "output_type": "stream",
          "name": "stdout",
          "text": [
            "a is greater than 5\n"
          ]
        }
      ]
    },
    {
      "cell_type": "code",
      "source": [
        "#Q8: Factorial of a number.\n",
        "def factorial(n):\n",
        "  if n == 0:\n",
        "    return 1\n",
        "  else:\n",
        "    return n * factorial(n-1)\n",
        "print(factorial(5))\n",
        "print(factorial(0))\n",
        "print(factorial(1))"
      ],
      "metadata": {
        "colab": {
          "base_uri": "https://localhost:8080/"
        },
        "id": "zlydZvf_HGsu",
        "outputId": "af930714-3da2-4372-fa2a-f1bd0395a8d7"
      },
      "execution_count": 25,
      "outputs": [
        {
          "output_type": "stream",
          "name": "stdout",
          "text": [
            "120\n",
            "1\n",
            "1\n"
          ]
        }
      ]
    },
    {
      "cell_type": "code",
      "source": [
        "#Q9: Functions are set of code that perform specific task whenever it is called.\n",
        "def subract():\n",
        "  a = 10\n",
        "  b = 5\n",
        "  return a-b\n",
        "subract()\n",
        "# here the function defined with the keywoed \"def\" subracts two variablec \"a\" and \"b\""
      ],
      "metadata": {
        "colab": {
          "base_uri": "https://localhost:8080/"
        },
        "id": "-8UTdycWHp_0",
        "outputId": "3045d69c-31ea-48f8-eb44-a6c4ba2323a6"
      },
      "execution_count": 28,
      "outputs": [
        {
          "output_type": "execute_result",
          "data": {
            "text/plain": [
              "5"
            ]
          },
          "metadata": {},
          "execution_count": 28
        }
      ]
    },
    {
      "cell_type": "code",
      "source": [
        "#Q10: Python have five pillars of OOPs(obejct oriented programming) namely,\n",
        "#1. Class\n",
        "#2. Object\n",
        "#3. Encapsulation\n",
        "#4. Inheritance\n",
        "#5. Polymorphism"
      ],
      "metadata": {
        "id": "-wwJJtSAI8ps"
      },
      "execution_count": null,
      "outputs": []
    }
  ]
}