{
  "nbformat": 4,
  "nbformat_minor": 0,
  "metadata": {
    "colab": {
      "provenance": []
    },
    "kernelspec": {
      "name": "python3",
      "display_name": "Python 3"
    },
    "language_info": {
      "name": "python"
    }
  },
  "cells": [
    {
      "cell_type": "markdown",
      "source": [
        "Day 1: Brute Force Approach\n",
        "\n",
        "What is Brute Force?\n",
        "\n",
        "The brute force approach is the simplest and most straightforward method of solving problems. It involves trying all possible solutions to find the correct one. While not always efficient, it's a good starting point for understanding the problem and can often help in finding a more optimized solution later.\n",
        "\n",
        "\n",
        "Example Problem: Two Sum\n",
        "Let's start with a classic problem: Two Sum.\n",
        "\n",
        "\n",
        "Problem Statement:\n",
        "Given an array of integers nums and an integer target, return the indices of the two numbers such that they add up to target.\n",
        "\n",
        "Example:\n",
        "\n",
        "python\n",
        "Copy code\n",
        "Input: nums = [2, 7, 11, 15], target = 9\n",
        "Output: [0, 1]\n",
        "Explanation: Because nums[0] + nums[1] == 9, we return [0, 1].\n",
        "Brute Force Solution\n",
        "In a brute force solution, you would check each pair of numbers to see if they add up to the target.\n",
        "\n",
        "python\n",
        "def two_sum(nums, target):\n",
        "    for i in range(len(nums)):\n",
        "        for j in range(i + 1, len(nums)):\n",
        "            if nums[i] + nums[j] == target:\n",
        "                return [i, j]\n",
        "    return []\n",
        "Explanation:\n",
        "Loop through each element in the list (nums[i]).\n",
        "For each element, loop through the remaining elements (nums[j]).\n",
        "Check if the sum of the two elements is equal to the target.\n",
        "If so, return their indices."
      ],
      "metadata": {
        "id": "eE90rOuCniaw"
      }
    },
    {
      "cell_type": "code",
      "execution_count": null,
      "metadata": {
        "id": "7pJtUrinncRm"
      },
      "outputs": [],
      "source": [
        "#Example:\n",
        "\n",
        "\"\"\"python:\n",
        "\n",
        "Input: nums = [2, 7, 11, 15], target = 9\n",
        "Output: [0, 1]\n",
        "Explanation: Because nums[0] + nums[1] == 9, we return [0, 1].\n",
        "Brute Force Solution\n",
        "In a brute force solution, you would check each pair of numbers to see if they add up to the target.\"\"\"\n",
        "\n",
        "def two_sum(nums, target):\n",
        "    for i in range(len(nums)):\n",
        "        for j in range(i + 1, len(nums)):\n",
        "            if nums[i] + nums[j] == target:\n",
        "                return [i, j]\n",
        "    return []\n",
        "\n",
        "\"\"\"Explanation:\n",
        "Loop through each element in the list (nums[i]).\n",
        "For each element, loop through the remaining elements (nums[j]).\n",
        "Check if the sum of the two elements is equal to the target.\n",
        "If so, return their indices.\"\"\""
      ]
    },
    {
      "cell_type": "code",
      "source": [
        "# Problem 2: T0 Palindrome check whether a given integer is palindrome or not.\n",
        "\n",
        "class Solution(object):\n",
        "    def isPalindrome(self, x):\n",
        "        \"\"\"\n",
        "        :type x: int\n",
        "        :rtype: bool\n",
        "        \"\"\"\n",
        "        y = str(x)\n",
        "        if y == y[::-1]:\n",
        "            return True\n",
        "        else:\n",
        "            return False"
      ],
      "metadata": {
        "id": "5nRw7_Ioob0a"
      },
      "execution_count": null,
      "outputs": []
    },
    {
      "cell_type": "code",
      "source": [
        "# Problem 3: gieven a 32 bit integer and return reverse integer in such a way that it should not exceeding 32 bit range.\n",
        "\n",
        "class Solution(object):\n",
        "    def reverse(self, x):\n",
        "        \"\"\"\n",
        "        :type x: int\n",
        "        :rtype: int\n",
        "        \"\"\"\n",
        "        if x < 0:\n",
        "            x = abs(x)\n",
        "            x_str= str(x)\n",
        "            y = x_str[::-1]\n",
        "            y = -1*(int(y))\n",
        "            return y\n",
        "        else:\n",
        "\n",
        "            x_str = str(x)\n",
        "            y = x_str[::-1]\n",
        "            return int(y)"
      ],
      "metadata": {
        "id": "cUIE_56Uo6BI"
      },
      "execution_count": null,
      "outputs": []
    }
  ]
}