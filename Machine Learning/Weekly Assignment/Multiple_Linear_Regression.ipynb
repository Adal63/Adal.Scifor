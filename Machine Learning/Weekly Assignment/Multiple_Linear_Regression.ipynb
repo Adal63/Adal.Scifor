{
  "nbformat": 4,
  "nbformat_minor": 0,
  "metadata": {
    "colab": {
      "provenance": []
    },
    "kernelspec": {
      "name": "python3",
      "display_name": "Python 3"
    },
    "language_info": {
      "name": "python"
    }
  },
  "cells": [
    {
      "cell_type": "code",
      "source": [
        "import pandas as pd\n",
        "\n",
        "data = {\n",
        "    'Bedrooms': [3, 4, 2, 3, 4, 5, 3, 2, 4, 3],\n",
        "    'SquareFootage': [2000, 2500, 1500, 1800, 2200, 3000, 2400, 1400, 2600, 2100],\n",
        "    'Bathrooms': [2, 3, 1, 2, 3, 4, 3, 1, 3, 2],\n",
        "    'Age': [10, 15, 5, 20, 8, 2, 12, 30, 7, 25],\n",
        "    'Price': [300000, 400000, 200000, 250000, 350000, 450000, 380000, 180000, 410000, 320000]\n",
        "}\n",
        "\n",
        "\n",
        "df = pd.DataFrame(data)\n",
        "\n",
        "print(df)\n"
      ],
      "metadata": {
        "colab": {
          "base_uri": "https://localhost:8080/"
        },
        "id": "NMDzJ6fH_XTu",
        "outputId": "1e1bea65-09b8-4856-8927-e8c514437587"
      },
      "execution_count": 41,
      "outputs": [
        {
          "output_type": "stream",
          "name": "stdout",
          "text": [
            "   Bedrooms  SquareFootage  Bathrooms  Age   Price\n",
            "0         3           2000          2   10  300000\n",
            "1         4           2500          3   15  400000\n",
            "2         2           1500          1    5  200000\n",
            "3         3           1800          2   20  250000\n",
            "4         4           2200          3    8  350000\n",
            "5         5           3000          4    2  450000\n",
            "6         3           2400          3   12  380000\n",
            "7         2           1400          1   30  180000\n",
            "8         4           2600          3    7  410000\n",
            "9         3           2100          2   25  320000\n"
          ]
        }
      ]
    },
    {
      "cell_type": "code",
      "source": [
        "from sklearn.model_selection import train_test_split\n",
        "from sklearn.linear_model import LinearRegression\n",
        "from sklearn.metrics import mean_squared_error\n",
        "\n",
        "X = df[['Bedrooms', 'SquareFootage', 'Bathrooms', 'Age']]\n",
        "y = df['Price']\n",
        "\n",
        "X_train, X_test, y_train, y_test = train_test_split(X, y, test_size=0.2, random_state=42)\n",
        "\n",
        "model = LinearRegression()\n",
        "model.fit(X_train, y_train)\n",
        "\n",
        "y_pred = model.predict(X_test)\n",
        "\n",
        "mse = mean_squared_error(y_test, y_pred)\n",
        "print(f'Mean Squared Error: {mse}')\n",
        "\n",
        "coefficients = pd.DataFrame(model.coef_, X.columns, columns=['Coefficient'])\n",
        "print(coefficients)\n"
      ],
      "metadata": {
        "colab": {
          "base_uri": "https://localhost:8080/"
        },
        "id": "Bln6JXJp_ZY-",
        "outputId": "01dfd3d4-fcbf-4a4a-d2f4-8591c1a45b46"
      },
      "execution_count": 42,
      "outputs": [
        {
          "output_type": "stream",
          "name": "stdout",
          "text": [
            "Mean Squared Error: 402597431.40124375\n",
            "                Coefficient\n",
            "Bedrooms      -16725.663717\n",
            "SquareFootage    145.409292\n",
            "Bathrooms      31124.631268\n",
            "Age               38.716814\n"
          ]
        }
      ]
    },
    {
      "cell_type": "code",
      "source": [
        "comparison = pd.DataFrame({'Actual': y_test, 'Predicted': y_pred})\n",
        "print(comparison)"
      ],
      "metadata": {
        "colab": {
          "base_uri": "https://localhost:8080/"
        },
        "id": "jeWVdJrcAcSe",
        "outputId": "e9d5cb51-d5a2-42be-810f-f79620cf5479"
      },
      "execution_count": 43,
      "outputs": [
        {
          "output_type": "stream",
          "name": "stdout",
          "text": [
            "   Actual      Predicted\n",
            "8  410000  392162.610619\n",
            "1  400000  377931.415929\n"
          ]
        }
      ]
    }
  ]
}