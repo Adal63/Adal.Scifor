{
  "nbformat": 4,
  "nbformat_minor": 0,
  "metadata": {
    "colab": {
      "provenance": []
    },
    "kernelspec": {
      "name": "python3",
      "display_name": "Python 3"
    },
    "language_info": {
      "name": "python"
    }
  },
  "cells": [
    {
      "cell_type": "code",
      "execution_count": 2,
      "metadata": {
        "colab": {
          "base_uri": "https://localhost:8080/"
        },
        "id": "DZcBrRlX_mjJ",
        "outputId": "cdf38ffd-6db9-47c4-c910-7cd6ea6a046f"
      },
      "outputs": [
        {
          "output_type": "stream",
          "name": "stdout",
          "text": [
            "Ridge Regression MSE: 0.5559\n",
            "Ridge Regression R^2: 0.5758\n",
            "Lasso Regression MSE: 0.6796\n",
            "Lasso Regression R^2: 0.4814\n"
          ]
        }
      ],
      "source": [
        "import numpy as np\n",
        "import pandas as pd\n",
        "from sklearn.model_selection import train_test_split\n",
        "from sklearn.preprocessing import StandardScaler\n",
        "from sklearn.linear_model import Ridge, Lasso\n",
        "from sklearn.model_selection import GridSearchCV\n",
        "from sklearn.metrics import mean_squared_error, r2_score\n",
        "from sklearn.datasets import fetch_california_housing\n",
        "\n",
        "# Load the California Housing dataset\n",
        "california = fetch_california_housing()\n",
        "X = california.data\n",
        "y = california.target\n",
        "\n",
        "# Split the dataset into training and testing sets\n",
        "X_train, X_test, y_train, y_test = train_test_split(X, y, test_size=0.2, random_state=42)\n",
        "\n",
        "# Standardize the features\n",
        "scaler = StandardScaler()\n",
        "X_train = scaler.fit_transform(X_train)\n",
        "X_test = scaler.transform(X_test)\n",
        "\n",
        "# Define the parameter grid for Ridge\n",
        "ridge_params = {'alpha': [0.1, 1, 10, 100]}\n",
        "\n",
        "# Define the parameter grid for Lasso\n",
        "lasso_params = {'alpha': [0.1, 1, 10, 100]}\n",
        "\n",
        "# Initialize Ridge and Lasso regressors\n",
        "ridge = Ridge()\n",
        "lasso = Lasso()\n",
        "\n",
        "# Perform Grid Search with Cross-Validation for Ridge\n",
        "ridge_grid = GridSearchCV(ridge, ridge_params, cv=5)\n",
        "ridge_grid.fit(X_train, y_train)\n",
        "\n",
        "# Perform Grid Search with Cross-Validation for Lasso\n",
        "lasso_grid = GridSearchCV(lasso, lasso_params, cv=5)\n",
        "lasso_grid.fit(X_train, y_train)\n",
        "\n",
        "# Predict using the best models\n",
        "ridge_best = ridge_grid.best_estimator_\n",
        "lasso_best = lasso_grid.best_estimator_\n",
        "\n",
        "y_pred_ridge = ridge_best.predict(X_test)\n",
        "y_pred_lasso = lasso_best.predict(X_test)\n",
        "\n",
        "# Evaluate Ridge\n",
        "ridge_mse = mean_squared_error(y_test, y_pred_ridge)\n",
        "ridge_r2 = r2_score(y_test, y_pred_ridge)\n",
        "\n",
        "# Evaluate Lasso\n",
        "lasso_mse = mean_squared_error(y_test, y_pred_lasso)\n",
        "lasso_r2 = r2_score(y_test, y_pred_lasso)\n",
        "\n",
        "print(f'Ridge Regression MSE: {ridge_mse:.4f}')\n",
        "print(f'Ridge Regression R^2: {ridge_r2:.4f}')\n",
        "print(f'Lasso Regression MSE: {lasso_mse:.4f}')\n",
        "print(f'Lasso Regression R^2: {lasso_r2:.4f}')\n"
      ]
    }
  ]
}